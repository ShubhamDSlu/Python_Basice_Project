import random  # Correct import

number_to_guess = random.randint(1, 100)  # Correct module name

while True:
    try:
        guess = int(input('Guess the number between 1 and 100: '))

        if guess < number_to_guess:
            print('Too low!')
        elif guess > number_to_guess:
            print('Too high!')
        else:
            print('Congratulations! You guessed the number.')
            break  # Exit loop when guessed correctly

    except ValueError:  # Correct exception handling
        print('Please enter a valid number.')
