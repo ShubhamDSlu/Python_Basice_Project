{
 "cells": [
  {
   "cell_type": "markdown",
   "id": "d16a8dd9-bf65-4c12-92b4-831c2281dfda",
   "metadata": {},
   "source": [
    "# DICE ROLLING GAME"
   ]
  },
  {
   "cell_type": "code",
   "execution_count": 3,
   "id": "064ed0dc-3635-4eed-a696-d0645388301e",
   "metadata": {},
   "outputs": [],
   "source": [
    "import random"
   ]
  },
  {
   "cell_type": "code",
   "execution_count": null,
   "id": "9c042be2-ac7d-4d8e-af6b-bf5593e19a32",
   "metadata": {},
   "outputs": [
    {
     "name": "stdin",
     "output_type": "stream",
     "text": [
      "Roll the dice? (y/n):  y\n"
     ]
    },
    {
     "name": "stdout",
     "output_type": "stream",
     "text": [
      "(3 , 1)\n"
     ]
    },
    {
     "name": "stdin",
     "output_type": "stream",
     "text": [
      "Roll the dice? (y/n):  y\n"
     ]
    },
    {
     "name": "stdout",
     "output_type": "stream",
     "text": [
      "(3 , 2)\n"
     ]
    },
    {
     "name": "stdin",
     "output_type": "stream",
     "text": [
      "Roll the dice? (y/n):  y\n"
     ]
    },
    {
     "name": "stdout",
     "output_type": "stream",
     "text": [
      "(2 , 5)\n"
     ]
    },
    {
     "name": "stdin",
     "output_type": "stream",
     "text": [
      "Roll the dice? (y/n):  y\n"
     ]
    },
    {
     "name": "stdout",
     "output_type": "stream",
     "text": [
      "(6 , 6)\n"
     ]
    },
    {
     "name": "stdin",
     "output_type": "stream",
     "text": [
      "Roll the dice? (y/n):  y\n"
     ]
    },
    {
     "name": "stdout",
     "output_type": "stream",
     "text": [
      "(6 , 2)\n"
     ]
    }
   ],
   "source": [
    "while True:\n",
    "    choice = input('Roll the dice? (y/n): ').lower()\n",
    "    if choice == 'y':\n",
    "        dice1 = random.randint(1 , 6)\n",
    "        dice2 = random.randint(1 , 6)\n",
    "        print(f'({dice1} , {dice2})')\n",
    "    elif choice =='n':\n",
    "        print ( 'Thanks for playimg!')\n",
    "        brack\n",
    "    else:\n",
    "        print ('Invalid choice!')"
   ]
  }
 ],
 "metadata": {
  "kernelspec": {
   "display_name": "Python 3 (ipykernel)",
   "language": "python",
   "name": "python3"
  },
  "language_info": {
   "codemirror_mode": {
    "name": "ipython",
    "version": 3
   },
   "file_extension": ".py",
   "mimetype": "text/x-python",
   "name": "python",
   "nbconvert_exporter": "python",
   "pygments_lexer": "ipython3",
   "version": "3.11.7"
  }
 },
 "nbformat": 4,
 "nbformat_minor": 5
}
