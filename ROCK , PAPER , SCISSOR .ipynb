{
 "cells": [
  {
   "cell_type": "markdown",
   "id": "b29e9ed1-0644-46ba-944e-7b4eec4cd063",
   "metadata": {},
   "source": [
    "ROCK , PAPER , SCISSOR GAME"
   ]
  },
  {
   "cell_type": "code",
   "execution_count": null,
   "id": "b7c6dbc3-9781-4eb8-b751-25b049109d52",
   "metadata": {},
   "outputs": [
    {
     "name": "stdin",
     "output_type": "stream",
     "text": [
      "Rock, paper, or scissors? (r/p/s):  r\n"
     ]
    },
    {
     "name": "stdout",
     "output_type": "stream",
     "text": [
      "You chose 🪨\n",
      "Computer chose ✂️\n",
      "You win\n"
     ]
    }
   ],
   "source": [
    "import random\n",
    "\n",
    "ROCK = 'r'\n",
    "SCISSORS = 's'\n",
    "PAPER = 'p'\n",
    "emojis = { ROCK: '🪨', SCISSORS: '✂️', PAPER: '📃' }\n",
    "choices = tuple(emojis.keys())\n",
    "\n",
    "def get_user_choice():\n",
    "  while True:\n",
    "    user_choice = input('Rock, paper, or scissors? (r/p/s): ').lower()\n",
    "    if user_choice in choices:\n",
    "      return user_choice      \n",
    "    else:\n",
    "      print('Invalid choice!')\n",
    "      \n",
    "def display_choices(user_choice, computer_choice):\n",
    "  print(f'You chose {emojis[user_choice]}')\n",
    "  print(f'Computer chose {emojis[computer_choice]}')\n",
    "\n",
    "\n",
    "def determine_winner(user_choice, computer_choice):\n",
    "  if user_choice == computer_choice:\n",
    "    print('Tie!')\n",
    "  elif (\n",
    "    (user_choice == ROCK and computer_choice == SCISSORS) or \n",
    "    (user_choice == SCISSORS and computer_choice == PAPER) or \n",
    "    (user_choice == PAPER and computer_choice == ROCK)):\n",
    "    print('You win')\n",
    "  else:\n",
    "    print('You lose')  \n",
    "\n",
    "def play_game():\n",
    "  while True:\n",
    "    user_choice = get_user_choice()\n",
    "\n",
    "    computer_choice = random.choice(choices)\n",
    "\n",
    "    display_choices(user_choice, computer_choice)\n",
    "\n",
    "    determine_winner(user_choice, computer_choice)\n",
    "\n",
    "    should_continue = input('Continue? (y/n): ').lower()\n",
    "    if should_continue == 'n':\n",
    "      break\n",
    "\n",
    "play_game()"
   ]
  }
 ],
 "metadata": {
  "kernelspec": {
   "display_name": "Python 3 (ipykernel)",
   "language": "python",
   "name": "python3"
  },
  "language_info": {
   "codemirror_mode": {
    "name": "ipython",
    "version": 3
   },
   "file_extension": ".py",
   "mimetype": "text/x-python",
   "name": "python",
   "nbconvert_exporter": "python",
   "pygments_lexer": "ipython3",
   "version": "3.11.7"
  }
 },
 "nbformat": 4,
 "nbformat_minor": 5
}
